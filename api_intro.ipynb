{
 "cells": [
  {
   "cell_type": "code",
   "execution_count": 13,
   "id": "a21ee8dc-19b1-4b0b-9963-f230f9851982",
   "metadata": {},
   "outputs": [],
   "source": [
    "import openai\n"
   ]
  },
  {
   "cell_type": "code",
   "execution_count": 14,
   "id": "f0a015d2-38b5-4ad1-b05c-f401efcc185b",
   "metadata": {},
   "outputs": [],
   "source": [
    "from openai import OpenAI"
   ]
  },
  {
   "cell_type": "code",
   "execution_count": 15,
   "id": "7e274356-ef65-48f5-a587-f32d7a377880",
   "metadata": {},
   "outputs": [],
   "source": [
    "client = OpenAI(api_key=\"\")"
   ]
  },
  {
   "cell_type": "code",
   "execution_count": 17,
   "id": "111cd7fa-d072-49c7-8c15-acd5006a337c",
   "metadata": {},
   "outputs": [],
   "source": [
    "response = client.chat.completions.create(\n",
    "    model='gpt-3.5-turbo',\n",
    "    messages=[{\"role\":\"user\", \"content\":\"What is the best way to learn LLMs?\"}]\n",
    ")"
   ]
  },
  {
   "cell_type": "code",
   "execution_count": 18,
   "id": "f3e94615-7b14-4112-bfce-534e700b75e3",
   "metadata": {},
   "outputs": [
    {
     "data": {
      "text/plain": [
       "'There are several approaches you can take to learn LLMs effectively:\\n\\n1. Start by familiarizing yourself with the basics of LLMs, including their purpose, architecture, and applications.\\n\\n2. Read research papers and articles on LLMs to gain a deeper understanding of the latest developments in the field.\\n\\n3. Take online courses or tutorials on LLMs, such as those offered by platforms like Coursera, Udemy, or edX.\\n\\n4. Practice implementing LLMs on datasets of your choice to gain hands-on experience and improve your skills.\\n\\n5. Join online communities and forums dedicated to LLMs, where you can ask questions, share insights, and learn from others in the field.\\n\\n6. Attend workshops, conferences, and seminars on LLMs to network with experts and stay up-to-date on the latest trends and advancements.\\n\\n7. Collaborate with peers or mentors who have experience working with LLMs to receive guidance, feedback, and support.\\n\\nBy combining these approaches and actively engaging with the material, you can enhance your understanding of LLMs and become proficient in their use.'"
      ]
     },
     "execution_count": 18,
     "metadata": {},
     "output_type": "execute_result"
    }
   ],
   "source": [
    "response.choices[0].message.content"
   ]
  },
  {
   "cell_type": "code",
   "execution_count": null,
   "id": "ee986899-1d1a-4a63-b608-365ceba42efe",
   "metadata": {},
   "outputs": [],
   "source": []
  }
 ],
 "metadata": {
  "kernelspec": {
   "display_name": "Python 3 (ipykernel)",
   "language": "python",
   "name": "python3"
  },
  "language_info": {
   "codemirror_mode": {
    "name": "ipython",
    "version": 3
   },
   "file_extension": ".py",
   "mimetype": "text/x-python",
   "name": "python",
   "nbconvert_exporter": "python",
   "pygments_lexer": "ipython3",
   "version": "3.10.13"
  }
 },
 "nbformat": 4,
 "nbformat_minor": 5
}
